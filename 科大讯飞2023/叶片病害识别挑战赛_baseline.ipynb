{
 "cells": [
  {
   "cell_type": "code",
   "execution_count": 1,
   "id": "c8d01073-09a8-4c68-b93b-aef463738bd0",
   "metadata": {
    "tags": []
   },
   "outputs": [],
   "source": [
    "import os, sys, glob, argparse\n",
    "import pandas as pd\n",
    "import numpy as np\n",
    "from tqdm import tqdm\n",
    "\n",
    "import cv2\n",
    "from PIL import Image\n",
    "from sklearn.model_selection import train_test_split, StratifiedKFold, KFold\n",
    "\n",
    "import torch\n",
    "torch.manual_seed(0)\n",
    "torch.backends.cudnn.deterministic = False\n",
    "torch.backends.cudnn.benchmark = True\n",
    "\n",
    "import torchvision.models as models\n",
    "import torchvision.transforms as transforms\n",
    "import torchvision.datasets as datasets\n",
    "import torch.nn as nn\n",
    "import torch.nn.functional as F\n",
    "import torch.optim as optim\n",
    "from torch.autograd import Variable\n",
    "from torch.utils.data.dataset import Dataset\n",
    "\n",
    "#Check if GPU is available\n",
    "if torch.cuda.is_available():\n",
    "   device = torch.device(\"cuda\")\n",
    "else:\n",
    "   device = torch.device(\"cpu\")"
   ]
  },
  {
   "cell_type": "code",
   "execution_count": null,
   "id": "aad17ca4-629b-488e-b932-c0e54dcd7a0b",
   "metadata": {},
   "outputs": [],
   "source": []
  },
  {
   "cell_type": "code",
   "execution_count": null,
   "id": "760736ac-b94d-462a-ae84-76080bd1021a",
   "metadata": {},
   "outputs": [],
   "source": []
  },
  {
   "cell_type": "code",
   "execution_count": null,
   "id": "427abc29-b356-4932-83b4-f11d33ea2aa4",
   "metadata": {},
   "outputs": [],
   "source": []
  },
  {
   "cell_type": "code",
   "execution_count": 2,
   "id": "70d2263d-916c-431e-aca7-3e5bcd867f9b",
   "metadata": {
    "tags": []
   },
   "outputs": [],
   "source": [
    "train_path = glob.glob('./train_data/*/*')\n",
    "np.random.shuffle(train_path)"
   ]
  },
  {
   "cell_type": "code",
   "execution_count": 3,
   "id": "46d68b4a-10c8-49f3-a71e-e52c86fe2bae",
   "metadata": {
    "tags": []
   },
   "outputs": [
    {
     "data": {
      "text/plain": [
       "3380"
      ]
     },
     "execution_count": 3,
     "metadata": {},
     "output_type": "execute_result"
    }
   ],
   "source": [
    "len(train_path)"
   ]
  },
  {
   "cell_type": "code",
   "execution_count": 4,
   "id": "584f2188-cf45-4d72-abee-4dae0d362926",
   "metadata": {
    "tags": []
   },
   "outputs": [],
   "source": [
    "class XunFeiDataset(Dataset):\n",
    "    def __init__(self, img_path, transform=None):\n",
    "        self.img_path = img_path\n",
    "        if transform is not None:\n",
    "            self.transform = transform\n",
    "        else:\n",
    "            self.transform = None\n",
    "    \n",
    "    def __getitem__(self, index):\n",
    "        img = Image.open(self.img_path[index])\n",
    "        if self.transform is not None:\n",
    "            img = self.transform(img)\n",
    "        \n",
    "        if 'powdery_mildew' in self.img_path[index]:\n",
    "            label = 0\n",
    "        elif 'healthy' in self.img_path[index]:\n",
    "            label = 1\n",
    "        elif 'rust' in self.img_path[index]:\n",
    "            label = 2\n",
    "        elif 'scab' in self.img_path[index]:\n",
    "            label = 3\n",
    "        \n",
    "        return img, torch.from_numpy(np.array(label).astype(int))\n",
    "    \n",
    "    def __len__(self):\n",
    "        return len(self.img_path)"
   ]
  },
  {
   "cell_type": "code",
   "execution_count": 15,
   "id": "473a6765-dd3d-4f48-8d34-ab4c32c013b4",
   "metadata": {
    "tags": []
   },
   "outputs": [],
   "source": [
    "class XunFeiNet(nn.Module):\n",
    "    def __init__(self):\n",
    "        super(XunFeiNet, self).__init__()\n",
    "        model = models.resnet50(True)\n",
    "        model.avgpool = nn.AdaptiveAvgPool2d(2)\n",
    "        model.fc = nn.Linear(8192, 4)\n",
    "        self.resnet = model\n",
    "    \n",
    "    def forward(self, img):\n",
    "        out = self.resnet(img)\n",
    "        return out"
   ]
  },
  {
   "cell_type": "code",
   "execution_count": 20,
   "id": "47539bef-14a7-4881-85e9-0882ff295e6a",
   "metadata": {
    "tags": []
   },
   "outputs": [],
   "source": [
    "def train(train_loader, model, criterion, optimizer):\n",
    "    model.train()\n",
    "    print(\"start train\")\n",
    "    train_loss = 0.0\n",
    "    for i, (input, target) in enumerate(train_loader):\n",
    "        input = input.to(device)\n",
    "        target = target.to(device)\n",
    "       \n",
    "\n",
    "        # compute output\n",
    "        output = model(input)\n",
    "        \n",
    "        loss = criterion(output, target)\n",
    "     \n",
    "        # compute gradient and do SGD step\n",
    "        optimizer.zero_grad()\n",
    "        loss.backward()\n",
    "        optimizer.step()\n",
    "\n",
    "        if i % 100 == 0:\n",
    "            print('Train loss', loss.item())\n",
    "            \n",
    "        train_loss += loss.item()\n",
    "    \n",
    "    return train_loss/len(train_loader)\n",
    "            \n",
    "def validate(val_loader, model, criterion):\n",
    "    model.eval()\n",
    "    \n",
    "    val_acc = 0.0\n",
    "    \n",
    "    with torch.no_grad():\n",
    "        for i, (input, target) in enumerate(val_loader):\n",
    "            input = input.to(device)\n",
    "            target = target.to(device)\n",
    "\n",
    "            # compute output\n",
    "            output = model(input)\n",
    "            loss = criterion(output, target)\n",
    "            \n",
    "            val_acc += (output.argmax(1) == target).sum().item()\n",
    "            \n",
    "    return val_acc / len(val_loader.dataset)\n",
    "\n",
    "def predict(test_loader, model, criterion):\n",
    "    model.eval()\n",
    "    val_acc = 0.0\n",
    "    \n",
    "    test_pred = []\n",
    "    with torch.no_grad():\n",
    "        for i, (input, target) in enumerate(test_loader):\n",
    "            input = input.to(device)\n",
    "            target = target.to(device)\n",
    "\n",
    "            # compute output\n",
    "            output = model(input)\n",
    "            test_pred.append(output.data.cpu().numpy())\n",
    "            \n",
    "    return np.vstack(test_pred)"
   ]
  },
  {
   "cell_type": "code",
   "execution_count": 21,
   "id": "c14b410f-de94-4f52-be5b-1377c34bda4a",
   "metadata": {
    "tags": []
   },
   "outputs": [],
   "source": [
    "train_loader = torch.utils.data.DataLoader(\n",
    "    XunFeiDataset(train_path[:-500],\n",
    "    transforms.Compose([\n",
    "                transforms.Resize(256),\n",
    "                transforms.RandomResizedCrop(224),\n",
    "                transforms.RandomHorizontalFlip(),\n",
    "                transforms.RandomVerticalFlip(),\n",
    "                transforms.ToTensor(),\n",
    "                transforms.Normalize(mean=[0.485, 0.456, 0.406],\n",
    "                                     std=[0.229, 0.224, 0.225])\n",
    "    ])), batch_size=15, shuffle=True, num_workers=4, pin_memory=False\n",
    ")\n",
    "\n",
    "val_loader = torch.utils.data.DataLoader(\n",
    "    XunFeiDataset(train_path[-500:],\n",
    "    transforms.Compose([\n",
    "                transforms.Resize(256),\n",
    "                transforms.RandomResizedCrop(224),\n",
    "                transforms.RandomHorizontalFlip(),\n",
    "                transforms.ToTensor(),\n",
    "                transforms.Normalize(mean=[0.485, 0.456, 0.406],\n",
    "                                     std=[0.229, 0.224, 0.225])\n",
    "    ])), batch_size=30, shuffle=False, num_workers=1, pin_memory=False\n",
    ")"
   ]
  },
  {
   "cell_type": "code",
   "execution_count": 22,
   "id": "7f7ee8cb-cfc0-4eb8-96ea-7302144ae7a4",
   "metadata": {
    "tags": []
   },
   "outputs": [],
   "source": [
    "model = XunFeiNet()\n",
    "model = model.to(device)\n",
    "criterion = nn.CrossEntropyLoss().cuda()\n",
    "optimizer = torch.optim.SGD(model.parameters(), 0.001)"
   ]
  },
  {
   "cell_type": "code",
   "execution_count": 23,
   "id": "b2faad78-e794-4f31-8b56-1a64dbf89ccc",
   "metadata": {
    "tags": []
   },
   "outputs": [
    {
     "name": "stdout",
     "output_type": "stream",
     "text": [
      "start train\n",
      "Train loss 1.4678303003311157\n",
      "Train loss 0.8444724678993225\n",
      "0.946241787324349 0.788\n",
      "start train\n",
      "Train loss 0.6010607481002808\n",
      "Train loss 0.34975355863571167\n",
      "0.5841932684027901 0.836\n",
      "start train\n",
      "Train loss 0.32969680428504944\n",
      "Train loss 0.43956664204597473\n",
      "0.4683838080770026 0.89\n",
      "start train\n",
      "Train loss 0.5608193874359131\n",
      "Train loss 0.2709323763847351\n",
      "0.42548741854261607 0.89\n",
      "start train\n",
      "Train loss 0.6641634702682495\n",
      "Train loss 0.4734472632408142\n",
      "0.3683372457938579 0.866\n",
      "start train\n",
      "Train loss 0.44831058382987976\n",
      "Train loss 0.23358970880508423\n",
      "0.3430396023322828 0.882\n",
      "start train\n",
      "Train loss 0.27207428216934204\n",
      "Train loss 0.16894394159317017\n",
      "0.32976046002780396 0.906\n",
      "start train\n",
      "Train loss 0.3281022608280182\n",
      "Train loss 0.1318625658750534\n",
      "0.30089254657893133 0.928\n",
      "start train\n",
      "Train loss 0.23887018859386444\n",
      "Train loss 0.3641754686832428\n",
      "0.31933121049466234 0.9\n",
      "start train\n",
      "Train loss 0.68653804063797\n",
      "Train loss 0.4926101565361023\n",
      "0.2896609886471803 0.906\n"
     ]
    }
   ],
   "source": [
    "for _  in range(10):\n",
    "    train_loss = train(train_loader, model, criterion, optimizer)\n",
    "    val_acc  = validate(val_loader, model, criterion)\n",
    "    \n",
    "    print(train_loss, val_acc)"
   ]
  },
  {
   "cell_type": "code",
   "execution_count": 24,
   "id": "4c342ae2-1004-41af-bbe5-0b76f4d46a41",
   "metadata": {},
   "outputs": [],
   "source": [
    "model = model.to('cpu')\n",
    "torch.save(model.state_dict(), 'model.pt')"
   ]
  },
  {
   "cell_type": "code",
   "execution_count": 26,
   "id": "3417be0a-77a9-4dcd-9d9e-d027241b163b",
   "metadata": {},
   "outputs": [],
   "source": [
    "torch.cuda.empty_cache() "
   ]
  },
  {
   "cell_type": "raw",
   "id": "f9b8c959-cc6c-4389-9f97-1fcced231644",
   "metadata": {},
   "source": [
    "文件夹可以组织为如下格式：\n",
    "leafs-test/\n",
    "leafs-test/model/\n",
    "leafs-test/model/model.pt\n",
    "leafs-test/.ipynb_checkpoints/\n",
    "leafs-test/.ipynb_checkpoints/run-checkpoint.py\n",
    "leafs-test/run.py\n",
    "\n",
    "tar -cvzf leafs-test.tar.gz leafs-test/\n",
    "s3cmd put leafs-test.tar.gz s3://ai-competition/你的URL/"
   ]
  },
  {
   "cell_type": "markdown",
   "id": "81aab234-cff6-4866-99c7-ef4e13080700",
   "metadata": {},
   "source": [
    "run.py 内容如下：\n",
    "\n",
    "```python\n",
    "import os, sys, glob, argparse\n",
    "import pandas as pd\n",
    "import numpy as np\n",
    "from tqdm import tqdm\n",
    "\n",
    "import cv2\n",
    "from PIL import Image\n",
    "from sklearn.model_selection import train_test_split, StratifiedKFold, KFold\n",
    "\n",
    "import torch\n",
    "torch.manual_seed(0)\n",
    "torch.backends.cudnn.deterministic = False\n",
    "torch.backends.cudnn.benchmark = True\n",
    "\n",
    "import torchvision.models as models\n",
    "import torchvision.transforms as transforms\n",
    "import torchvision.datasets as datasets\n",
    "import torch.nn as nn\n",
    "import torch.nn.functional as F\n",
    "import torch.optim as optim\n",
    "from torch.autograd import Variable\n",
    "from torch.utils.data.dataset import Dataset\n",
    "\n",
    "# Check if GPU is available\n",
    "device = torch.device(\"cpu\")\n",
    "\n",
    "class XunFeiDataset(Dataset):\n",
    "    def __init__(self, img_path, transform=None):\n",
    "        self.img_path = img_path\n",
    "        if transform is not None:\n",
    "            self.transform = transform\n",
    "        else:\n",
    "            self.transform = None\n",
    "    \n",
    "    def __getitem__(self, index):\n",
    "        img = Image.open(self.img_path[index])\n",
    "        if self.transform is not None:\n",
    "            img = self.transform(img)\n",
    "        \n",
    "        if 'powdery_mildew' in self.img_path[index]:\n",
    "            label = 0\n",
    "        elif 'healthy' in self.img_path[index]:\n",
    "            label = 1\n",
    "        elif 'rust' in self.img_path[index]:\n",
    "            label = 2\n",
    "        elif 'scab' in self.img_path[index]:\n",
    "            label = 3\n",
    "        else:\n",
    "            label = 0\n",
    "        \n",
    "        return img, torch.from_numpy(np.array(label).astype(int))\n",
    "    \n",
    "    def __len__(self):\n",
    "        return len(self.img_path)\n",
    "    \n",
    "class XunFeiNet(nn.Module):\n",
    "    def __init__(self):\n",
    "        super(XunFeiNet, self).__init__()\n",
    "        model = models.resnet50(False)\n",
    "        model.avgpool = nn.AdaptiveAvgPool2d(1)\n",
    "        model.fc = nn.Linear(2048, 4)\n",
    "        self.resnet = model\n",
    "    \n",
    "    def forward(self, img):\n",
    "        out = self.resnet(img)\n",
    "        return out\n",
    "    \n",
    "def predict(test_loader, model):\n",
    "    model.eval()    \n",
    "    test_pred = []\n",
    "    with torch.no_grad():\n",
    "        for i, (input, target) in enumerate(test_loader):\n",
    "            input = input.to(device)\n",
    "            target = target.to(device)\n",
    "            output = model(input)\n",
    "            test_pred.append(output.data.cpu().numpy())\n",
    "            \n",
    "    return np.vstack(test_pred)\n",
    "\n",
    "\n",
    "test_path = glob.glob('/work/data/leafs-test-dataset/*')\n",
    "test_path.sort()\n",
    "\n",
    "test_loader = torch.utils.data.DataLoader(\n",
    "    XunFeiDataset(test_path[:],\n",
    "    transforms.Compose([\n",
    "                transforms.Resize(224),\n",
    "                # transforms.RandomResizedCrop(224),\n",
    "                # transforms.RandomHorizontalFlip(),\n",
    "                transforms.ToTensor(),\n",
    "                transforms.Normalize(mean=[0.485, 0.456, 0.406],\n",
    "                                     std=[0.229, 0.224, 0.225])\n",
    "    ])), batch_size=30, shuffle=False, num_workers=1, pin_memory=False\n",
    ")\n",
    "model = XunFeiNet()\n",
    "model.load_state_dict(torch.load('./model/model.pt'))\n",
    "\n",
    "test_pred = predict(test_loader, model)\n",
    "test_pred = test_pred.argmax(1)\n",
    "class_names = np.array(['powdery_mildew', 'healthy', 'rust', 'scab'])\n",
    "test_pred = class_names[test_pred]\n",
    "\n",
    "pd.DataFrame({\n",
    "    'uuid': [x.split('/')[-1] for x in test_path],\n",
    "    'label': test_pred\n",
    "}).to_csv('/work/output/result.csv', index=None)\n",
    "```"
   ]
  },
  {
   "cell_type": "code",
   "execution_count": null,
   "id": "ea00dec7-f842-459a-b2c6-e108dc9b522b",
   "metadata": {},
   "outputs": [],
   "source": []
  },
  {
   "cell_type": "code",
   "execution_count": null,
   "id": "12b893d0-d22e-401a-b39a-4810c7ec7e6a",
   "metadata": {},
   "outputs": [],
   "source": []
  }
 ],
 "metadata": {
  "kernelspec": {
   "display_name": "Python 3 (ipykernel)",
   "language": "python",
   "name": "python3"
  },
  "language_info": {
   "codemirror_mode": {
    "name": "ipython",
    "version": 3
   },
   "file_extension": ".py",
   "mimetype": "text/x-python",
   "name": "python",
   "nbconvert_exporter": "python",
   "pygments_lexer": "ipython3",
   "version": "3.8.16"
  },
  "widgets": {
   "application/vnd.jupyter.widget-state+json": {
    "state": {},
    "version_major": 2,
    "version_minor": 0
   }
  }
 },
 "nbformat": 4,
 "nbformat_minor": 5
}
